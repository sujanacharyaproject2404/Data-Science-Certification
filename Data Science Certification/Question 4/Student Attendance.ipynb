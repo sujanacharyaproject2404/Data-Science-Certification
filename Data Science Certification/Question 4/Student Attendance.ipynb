{
 "cells": [
  {
   "cell_type": "code",
   "execution_count": 1,
   "id": "b17f6a84",
   "metadata": {},
   "outputs": [],
   "source": [
    "#import packages\n",
    "import numpy as np\n",
    "import pandas as pd\n",
    "import matplotlib.pyplot as plt\n",
    "import seaborn as sns"
   ]
  },
  {
   "cell_type": "code",
   "execution_count": 2,
   "id": "c646136c",
   "metadata": {},
   "outputs": [],
   "source": [
    "sheet_id_1='1Y_g6LQI2GLqpKf-fj-rH7D9gfnP2MJzpFA6t0AsBMi8'\n",
    "sheet_id_2='1zz8dedYx-9wVX64rNDuG7VZFx-aLeu7lDlL0BcjF5sw'\n",
    "sheet_name_1='Class1'\n",
    "sheet_name_2='Class2'\n",
    "class_1=pd.read_csv(\"https://docs.google.com/spreadsheets/d/{}/gviz/tq?tqx=out:csv&sheet={}\".format(sheet_id_1,sheet_name_1))\n",
    "class_2=pd.read_csv(\"https://docs.google.com/spreadsheets/d/{}/gviz/tq?tqx=out:csv&sheet={}\".format(sheet_id_2,sheet_name_2))"
   ]
  },
  {
   "cell_type": "code",
   "execution_count": 3,
   "id": "bdc8a7c6",
   "metadata": {},
   "outputs": [
    {
     "data": {
      "text/plain": [
       "(57, 35)"
      ]
     },
     "execution_count": 3,
     "metadata": {},
     "output_type": "execute_result"
    }
   ],
   "source": [
    "class_1.shape"
   ]
  },
  {
   "cell_type": "code",
   "execution_count": 4,
   "id": "0bdb06cd",
   "metadata": {},
   "outputs": [
    {
     "data": {
      "text/plain": [
       "(70, 20)"
      ]
     },
     "execution_count": 4,
     "metadata": {},
     "output_type": "execute_result"
    }
   ],
   "source": [
    "class_2.shape"
   ]
  },
  {
   "cell_type": "markdown",
   "id": "8877a571",
   "metadata": {},
   "source": [
    "Deal with one class's data set at a time  "
   ]
  },
  {
   "cell_type": "code",
   "execution_count": 5,
   "id": "15943ec8",
   "metadata": {},
   "outputs": [
    {
     "data": {
      "text/html": [
       "<div>\n",
       "<style scoped>\n",
       "    .dataframe tbody tr th:only-of-type {\n",
       "        vertical-align: middle;\n",
       "    }\n",
       "\n",
       "    .dataframe tbody tr th {\n",
       "        vertical-align: top;\n",
       "    }\n",
       "\n",
       "    .dataframe thead th {\n",
       "        text-align: right;\n",
       "    }\n",
       "</style>\n",
       "<table border=\"1\" class=\"dataframe\">\n",
       "  <thead>\n",
       "    <tr style=\"text-align: right;\">\n",
       "      <th></th>\n",
       "      <th>Type</th>\n",
       "      <th>10-01-21</th>\n",
       "      <th>Unnamed: 3</th>\n",
       "      <th>09-01-21</th>\n",
       "      <th>Unnamed: 5</th>\n",
       "      <th>08-01-21</th>\n",
       "      <th>Unnamed: 7</th>\n",
       "      <th>07-01-21</th>\n",
       "      <th>Unnamed: 9</th>\n",
       "      <th>06-01-21</th>\n",
       "      <th>...</th>\n",
       "      <th>Unnamed: 25</th>\n",
       "      <th>Unnamed: 26</th>\n",
       "      <th>Unnamed: 27</th>\n",
       "      <th>Unnamed: 28</th>\n",
       "      <th>Unnamed: 29</th>\n",
       "      <th>Unnamed: 30</th>\n",
       "      <th>Unnamed: 31</th>\n",
       "      <th>Unnamed: 32</th>\n",
       "      <th>Unnamed: 33</th>\n",
       "      <th>Unnamed: 34</th>\n",
       "    </tr>\n",
       "    <tr>\n",
       "      <th>Unnamed: 0</th>\n",
       "      <th></th>\n",
       "      <th></th>\n",
       "      <th></th>\n",
       "      <th></th>\n",
       "      <th></th>\n",
       "      <th></th>\n",
       "      <th></th>\n",
       "      <th></th>\n",
       "      <th></th>\n",
       "      <th></th>\n",
       "      <th></th>\n",
       "      <th></th>\n",
       "      <th></th>\n",
       "      <th></th>\n",
       "      <th></th>\n",
       "      <th></th>\n",
       "      <th></th>\n",
       "      <th></th>\n",
       "      <th></th>\n",
       "      <th></th>\n",
       "      <th></th>\n",
       "    </tr>\n",
       "  </thead>\n",
       "  <tbody>\n",
       "    <tr>\n",
       "      <th>1</th>\n",
       "      <td>WORKING</td>\n",
       "      <td>Missed</td>\n",
       "      <td>5</td>\n",
       "      <td>Missed</td>\n",
       "      <td>5</td>\n",
       "      <td>Missed</td>\n",
       "      <td>9</td>\n",
       "      <td>Missed</td>\n",
       "      <td>5</td>\n",
       "      <td>Missed</td>\n",
       "      <td>...</td>\n",
       "      <td>NaN</td>\n",
       "      <td>NaN</td>\n",
       "      <td>NaN</td>\n",
       "      <td>NaN</td>\n",
       "      <td>NaN</td>\n",
       "      <td>NaN</td>\n",
       "      <td>NaN</td>\n",
       "      <td>NaN</td>\n",
       "      <td>NaN</td>\n",
       "      <td>NaN</td>\n",
       "    </tr>\n",
       "    <tr>\n",
       "      <th>2</th>\n",
       "      <td>NaN</td>\n",
       "      <td>Missed</td>\n",
       "      <td>10</td>\n",
       "      <td>Missed</td>\n",
       "      <td>5</td>\n",
       "      <td>Missed</td>\n",
       "      <td>6</td>\n",
       "      <td>Attended</td>\n",
       "      <td>9</td>\n",
       "      <td>Missed</td>\n",
       "      <td>...</td>\n",
       "      <td>NaN</td>\n",
       "      <td>NaN</td>\n",
       "      <td>NaN</td>\n",
       "      <td>NaN</td>\n",
       "      <td>NaN</td>\n",
       "      <td>NaN</td>\n",
       "      <td>NaN</td>\n",
       "      <td>NaN</td>\n",
       "      <td>NaN</td>\n",
       "      <td>NaN</td>\n",
       "    </tr>\n",
       "    <tr>\n",
       "      <th>3</th>\n",
       "      <td>STUDENT</td>\n",
       "      <td>Missed</td>\n",
       "      <td>5</td>\n",
       "      <td>Missed</td>\n",
       "      <td>5</td>\n",
       "      <td>Missed</td>\n",
       "      <td>8</td>\n",
       "      <td>Missed</td>\n",
       "      <td>7</td>\n",
       "      <td>Attended</td>\n",
       "      <td>...</td>\n",
       "      <td>NaN</td>\n",
       "      <td>NaN</td>\n",
       "      <td>NaN</td>\n",
       "      <td>NaN</td>\n",
       "      <td>NaN</td>\n",
       "      <td>NaN</td>\n",
       "      <td>NaN</td>\n",
       "      <td>NaN</td>\n",
       "      <td>NaN</td>\n",
       "      <td>NaN</td>\n",
       "    </tr>\n",
       "    <tr>\n",
       "      <th>4</th>\n",
       "      <td>STUDENT</td>\n",
       "      <td>Missed</td>\n",
       "      <td>5</td>\n",
       "      <td>Missed</td>\n",
       "      <td>8</td>\n",
       "      <td>Attended</td>\n",
       "      <td>8</td>\n",
       "      <td>Missed</td>\n",
       "      <td>9</td>\n",
       "      <td>Missed</td>\n",
       "      <td>...</td>\n",
       "      <td>NaN</td>\n",
       "      <td>NaN</td>\n",
       "      <td>NaN</td>\n",
       "      <td>NaN</td>\n",
       "      <td>NaN</td>\n",
       "      <td>NaN</td>\n",
       "      <td>NaN</td>\n",
       "      <td>NaN</td>\n",
       "      <td>NaN</td>\n",
       "      <td>NaN</td>\n",
       "    </tr>\n",
       "    <tr>\n",
       "      <th>5</th>\n",
       "      <td>WORKING</td>\n",
       "      <td>Missed</td>\n",
       "      <td>8</td>\n",
       "      <td>Missed</td>\n",
       "      <td>10</td>\n",
       "      <td>Missed</td>\n",
       "      <td>5</td>\n",
       "      <td>Missed</td>\n",
       "      <td>6</td>\n",
       "      <td>Missed</td>\n",
       "      <td>...</td>\n",
       "      <td>NaN</td>\n",
       "      <td>NaN</td>\n",
       "      <td>NaN</td>\n",
       "      <td>NaN</td>\n",
       "      <td>NaN</td>\n",
       "      <td>NaN</td>\n",
       "      <td>NaN</td>\n",
       "      <td>NaN</td>\n",
       "      <td>NaN</td>\n",
       "      <td>NaN</td>\n",
       "    </tr>\n",
       "  </tbody>\n",
       "</table>\n",
       "<p>5 rows × 34 columns</p>\n",
       "</div>"
      ],
      "text/plain": [
       "               Type 10-01-21  Unnamed: 3 09-01-21  Unnamed: 5  08-01-21  \\\n",
       "Unnamed: 0                                                                \n",
       "1           WORKING   Missed           5   Missed           5    Missed   \n",
       "2               NaN   Missed          10   Missed           5    Missed   \n",
       "3           STUDENT   Missed           5   Missed           5    Missed   \n",
       "4           STUDENT   Missed           5   Missed           8  Attended   \n",
       "5           WORKING   Missed           8   Missed          10    Missed   \n",
       "\n",
       "            Unnamed: 7  07-01-21  Unnamed: 9  06-01-21  ...  Unnamed: 25  \\\n",
       "Unnamed: 0                                              ...                \n",
       "1                    9    Missed           5    Missed  ...          NaN   \n",
       "2                    6  Attended           9    Missed  ...          NaN   \n",
       "3                    8    Missed           7  Attended  ...          NaN   \n",
       "4                    8    Missed           9    Missed  ...          NaN   \n",
       "5                    5    Missed           6    Missed  ...          NaN   \n",
       "\n",
       "           Unnamed: 26  Unnamed: 27 Unnamed: 28  Unnamed: 29 Unnamed: 30  \\\n",
       "Unnamed: 0                                                                 \n",
       "1                  NaN          NaN         NaN          NaN         NaN   \n",
       "2                  NaN          NaN         NaN          NaN         NaN   \n",
       "3                  NaN          NaN         NaN          NaN         NaN   \n",
       "4                  NaN          NaN         NaN          NaN         NaN   \n",
       "5                  NaN          NaN         NaN          NaN         NaN   \n",
       "\n",
       "            Unnamed: 31 Unnamed: 32  Unnamed: 33 Unnamed: 34  \n",
       "Unnamed: 0                                                    \n",
       "1                   NaN         NaN          NaN         NaN  \n",
       "2                   NaN         NaN          NaN         NaN  \n",
       "3                   NaN         NaN          NaN         NaN  \n",
       "4                   NaN         NaN          NaN         NaN  \n",
       "5                   NaN         NaN          NaN         NaN  \n",
       "\n",
       "[5 rows x 34 columns]"
      ]
     },
     "execution_count": 5,
     "metadata": {},
     "output_type": "execute_result"
    }
   ],
   "source": [
    "# class-1\n",
    "class_1.set_index('Unnamed: 0',inplace=True)\n",
    "class_1.head()"
   ]
  },
  {
   "cell_type": "code",
   "execution_count": 6,
   "id": "676dd51c",
   "metadata": {},
   "outputs": [
    {
     "data": {
      "text/html": [
       "<div>\n",
       "<style scoped>\n",
       "    .dataframe tbody tr th:only-of-type {\n",
       "        vertical-align: middle;\n",
       "    }\n",
       "\n",
       "    .dataframe tbody tr th {\n",
       "        vertical-align: top;\n",
       "    }\n",
       "\n",
       "    .dataframe thead th {\n",
       "        text-align: right;\n",
       "    }\n",
       "</style>\n",
       "<table border=\"1\" class=\"dataframe\">\n",
       "  <thead>\n",
       "    <tr style=\"text-align: right;\">\n",
       "      <th></th>\n",
       "      <th>Type</th>\n",
       "      <th>10-01-21</th>\n",
       "      <th>Unnamed: 3</th>\n",
       "      <th>09-01-21</th>\n",
       "      <th>Unnamed: 5</th>\n",
       "      <th>08-01-21</th>\n",
       "      <th>Unnamed: 7</th>\n",
       "      <th>07-01-21</th>\n",
       "      <th>Unnamed: 9</th>\n",
       "      <th>06-01-21</th>\n",
       "      <th>Unnamed: 11</th>\n",
       "      <th>05-01-21</th>\n",
       "      <th>Unnamed: 13</th>\n",
       "      <th>04-01-21</th>\n",
       "      <th>Unnamed: 15</th>\n",
       "      <th>03-01-21</th>\n",
       "      <th>Unnamed: 17</th>\n",
       "      <th>01-01-21</th>\n",
       "      <th>R-01-01-21</th>\n",
       "    </tr>\n",
       "    <tr>\n",
       "      <th>Unnamed: 0</th>\n",
       "      <th></th>\n",
       "      <th></th>\n",
       "      <th></th>\n",
       "      <th></th>\n",
       "      <th></th>\n",
       "      <th></th>\n",
       "      <th></th>\n",
       "      <th></th>\n",
       "      <th></th>\n",
       "      <th></th>\n",
       "      <th></th>\n",
       "      <th></th>\n",
       "      <th></th>\n",
       "      <th></th>\n",
       "      <th></th>\n",
       "      <th></th>\n",
       "      <th></th>\n",
       "      <th></th>\n",
       "      <th></th>\n",
       "    </tr>\n",
       "  </thead>\n",
       "  <tbody>\n",
       "    <tr>\n",
       "      <th>1</th>\n",
       "      <td>NaN</td>\n",
       "      <td>Attended</td>\n",
       "      <td>6</td>\n",
       "      <td>Attended</td>\n",
       "      <td>8</td>\n",
       "      <td>Attended</td>\n",
       "      <td>6</td>\n",
       "      <td>Attended</td>\n",
       "      <td>5</td>\n",
       "      <td>Attended</td>\n",
       "      <td>7</td>\n",
       "      <td>Attended</td>\n",
       "      <td>10</td>\n",
       "      <td>Attended</td>\n",
       "      <td>5</td>\n",
       "      <td>Missed</td>\n",
       "      <td>7</td>\n",
       "      <td>NaN</td>\n",
       "      <td>NaN</td>\n",
       "    </tr>\n",
       "    <tr>\n",
       "      <th>2</th>\n",
       "      <td>NaN</td>\n",
       "      <td>Attended</td>\n",
       "      <td>7</td>\n",
       "      <td>Attended</td>\n",
       "      <td>9</td>\n",
       "      <td>Attended</td>\n",
       "      <td>5</td>\n",
       "      <td>Attended</td>\n",
       "      <td>6</td>\n",
       "      <td>Attended</td>\n",
       "      <td>10</td>\n",
       "      <td>Attended</td>\n",
       "      <td>6</td>\n",
       "      <td>Attended</td>\n",
       "      <td>9</td>\n",
       "      <td>Attended</td>\n",
       "      <td>8</td>\n",
       "      <td>NaN</td>\n",
       "      <td>NaN</td>\n",
       "    </tr>\n",
       "    <tr>\n",
       "      <th>3</th>\n",
       "      <td>STUDENT</td>\n",
       "      <td>Missed</td>\n",
       "      <td>9</td>\n",
       "      <td>Missed</td>\n",
       "      <td>5</td>\n",
       "      <td>Missed</td>\n",
       "      <td>10</td>\n",
       "      <td>Missed</td>\n",
       "      <td>5</td>\n",
       "      <td>Missed</td>\n",
       "      <td>10</td>\n",
       "      <td>Missed</td>\n",
       "      <td>5</td>\n",
       "      <td>Missed</td>\n",
       "      <td>7</td>\n",
       "      <td>Missed</td>\n",
       "      <td>8</td>\n",
       "      <td>NaN</td>\n",
       "      <td>NaN</td>\n",
       "    </tr>\n",
       "    <tr>\n",
       "      <th>4</th>\n",
       "      <td>NaN</td>\n",
       "      <td>Attended</td>\n",
       "      <td>9</td>\n",
       "      <td>Attended</td>\n",
       "      <td>10</td>\n",
       "      <td>Attended</td>\n",
       "      <td>5</td>\n",
       "      <td>Attended</td>\n",
       "      <td>6</td>\n",
       "      <td>Missed</td>\n",
       "      <td>6</td>\n",
       "      <td>Missed</td>\n",
       "      <td>7</td>\n",
       "      <td>Attended</td>\n",
       "      <td>7</td>\n",
       "      <td>Attended</td>\n",
       "      <td>7</td>\n",
       "      <td>NaN</td>\n",
       "      <td>NaN</td>\n",
       "    </tr>\n",
       "    <tr>\n",
       "      <th>5</th>\n",
       "      <td>WORKING</td>\n",
       "      <td>Attended</td>\n",
       "      <td>7</td>\n",
       "      <td>Attended</td>\n",
       "      <td>8</td>\n",
       "      <td>Attended</td>\n",
       "      <td>8</td>\n",
       "      <td>Missed</td>\n",
       "      <td>6</td>\n",
       "      <td>Missed</td>\n",
       "      <td>8</td>\n",
       "      <td>Missed</td>\n",
       "      <td>5</td>\n",
       "      <td>Missed</td>\n",
       "      <td>5</td>\n",
       "      <td>Missed</td>\n",
       "      <td>5</td>\n",
       "      <td>NaN</td>\n",
       "      <td>NaN</td>\n",
       "    </tr>\n",
       "  </tbody>\n",
       "</table>\n",
       "</div>"
      ],
      "text/plain": [
       "               Type  10-01-21  Unnamed: 3  09-01-21  Unnamed: 5  08-01-21  \\\n",
       "Unnamed: 0                                                                  \n",
       "1               NaN  Attended           6  Attended           8  Attended   \n",
       "2               NaN  Attended           7  Attended           9  Attended   \n",
       "3           STUDENT    Missed           9    Missed           5    Missed   \n",
       "4               NaN  Attended           9  Attended          10  Attended   \n",
       "5           WORKING  Attended           7  Attended           8  Attended   \n",
       "\n",
       "            Unnamed: 7  07-01-21  Unnamed: 9  06-01-21  Unnamed: 11  05-01-21  \\\n",
       "Unnamed: 0                                                                      \n",
       "1                    6  Attended           5  Attended            7  Attended   \n",
       "2                    5  Attended           6  Attended           10  Attended   \n",
       "3                   10    Missed           5    Missed           10    Missed   \n",
       "4                    5  Attended           6    Missed            6    Missed   \n",
       "5                    8    Missed           6    Missed            8    Missed   \n",
       "\n",
       "            Unnamed: 13  04-01-21  Unnamed: 15  03-01-21  Unnamed: 17  \\\n",
       "Unnamed: 0                                                              \n",
       "1                    10  Attended            5    Missed            7   \n",
       "2                     6  Attended            9  Attended            8   \n",
       "3                     5    Missed            7    Missed            8   \n",
       "4                     7  Attended            7  Attended            7   \n",
       "5                     5    Missed            5    Missed            5   \n",
       "\n",
       "            01-01-21  R-01-01-21  \n",
       "Unnamed: 0                        \n",
       "1                NaN         NaN  \n",
       "2                NaN         NaN  \n",
       "3                NaN         NaN  \n",
       "4                NaN         NaN  \n",
       "5                NaN         NaN  "
      ]
     },
     "execution_count": 6,
     "metadata": {},
     "output_type": "execute_result"
    }
   ],
   "source": [
    "#class-2\n",
    "class_2.set_index('Unnamed: 0',inplace=True)\n",
    "class_2.head()"
   ]
  },
  {
   "cell_type": "markdown",
   "id": "04f28acd",
   "metadata": {},
   "source": [
    "Preprocessing the data according to question specification"
   ]
  },
  {
   "cell_type": "code",
   "execution_count": 7,
   "id": "c0c2d394",
   "metadata": {},
   "outputs": [],
   "source": [
    "df1=class_1\n",
    "df2=class_2"
   ]
  },
  {
   "cell_type": "code",
   "execution_count": 8,
   "id": "0f77bc88",
   "metadata": {},
   "outputs": [],
   "source": [
    "df1['Type']=df1['Type'].fillna(value='STUDENT')\n",
    "df2['Type']=df2['Type'].fillna(value='STUDENT')"
   ]
  },
  {
   "cell_type": "markdown",
   "id": "19677865",
   "metadata": {},
   "source": [
    "Questions to address\n",
    "- Which student need attention for missing session?\n",
    "- Which students are unsatisfied?\n",
    "- Which students are very satisfied\n",
    "- further insight about students"
   ]
  },
  {
   "cell_type": "markdown",
   "id": "8b610d9b",
   "metadata": {},
   "source": [
    "Class 1"
   ]
  },
  {
   "cell_type": "code",
   "execution_count": 9,
   "id": "0d2f70c5",
   "metadata": {},
   "outputs": [
    {
     "name": "stdout",
     "output_type": "stream",
     "text": [
      "<class 'pandas.core.frame.DataFrame'>\n",
      "Int64Index: 57 entries, 1 to 57\n",
      "Data columns (total 21 columns):\n",
      " #   Column       Non-Null Count  Dtype \n",
      "---  ------       --------------  ----- \n",
      " 0   Type         57 non-null     object\n",
      " 1   10-01-21     57 non-null     object\n",
      " 2   Unnamed: 3   57 non-null     int64 \n",
      " 3   09-01-21     57 non-null     object\n",
      " 4   Unnamed: 5   57 non-null     int64 \n",
      " 5   08-01-21     57 non-null     object\n",
      " 6   Unnamed: 7   57 non-null     int64 \n",
      " 7   07-01-21     56 non-null     object\n",
      " 8   Unnamed: 9   57 non-null     int64 \n",
      " 9   06-01-21     56 non-null     object\n",
      " 10  Unnamed: 11  57 non-null     int64 \n",
      " 11  05-01-21     56 non-null     object\n",
      " 12  Unnamed: 13  57 non-null     int64 \n",
      " 13  04-01-21     56 non-null     object\n",
      " 14  Unnamed: 15  57 non-null     int64 \n",
      " 15  03-01-21     56 non-null     object\n",
      " 16  Unnamed: 17  57 non-null     int64 \n",
      " 17  02-01-21     56 non-null     object\n",
      " 18  Unnamed: 19  57 non-null     int64 \n",
      " 19  01-01-21     56 non-null     object\n",
      " 20  Unnamed: 21  57 non-null     int64 \n",
      "dtypes: int64(10), object(11)\n",
      "memory usage: 9.8+ KB\n"
     ]
    }
   ],
   "source": [
    "df1=df1.iloc[:,:21]\n",
    "df1.info()"
   ]
  },
  {
   "cell_type": "code",
   "execution_count": 10,
   "id": "17d09731",
   "metadata": {},
   "outputs": [
    {
     "name": "stdout",
     "output_type": "stream",
     "text": [
      "<class 'pandas.core.frame.DataFrame'>\n",
      "Int64Index: 56 entries, 1 to 57\n",
      "Data columns (total 21 columns):\n",
      " #   Column       Non-Null Count  Dtype \n",
      "---  ------       --------------  ----- \n",
      " 0   Type         56 non-null     object\n",
      " 1   10-01-21     56 non-null     object\n",
      " 2   Unnamed: 3   56 non-null     int64 \n",
      " 3   09-01-21     56 non-null     object\n",
      " 4   Unnamed: 5   56 non-null     int64 \n",
      " 5   08-01-21     56 non-null     object\n",
      " 6   Unnamed: 7   56 non-null     int64 \n",
      " 7   07-01-21     56 non-null     object\n",
      " 8   Unnamed: 9   56 non-null     int64 \n",
      " 9   06-01-21     56 non-null     object\n",
      " 10  Unnamed: 11  56 non-null     int64 \n",
      " 11  05-01-21     56 non-null     object\n",
      " 12  Unnamed: 13  56 non-null     int64 \n",
      " 13  04-01-21     56 non-null     object\n",
      " 14  Unnamed: 15  56 non-null     int64 \n",
      " 15  03-01-21     56 non-null     object\n",
      " 16  Unnamed: 17  56 non-null     int64 \n",
      " 17  02-01-21     56 non-null     object\n",
      " 18  Unnamed: 19  56 non-null     int64 \n",
      " 19  01-01-21     56 non-null     object\n",
      " 20  Unnamed: 21  56 non-null     int64 \n",
      "dtypes: int64(10), object(11)\n",
      "memory usage: 9.6+ KB\n"
     ]
    }
   ],
   "source": [
    "df1.dropna(inplace=True)\n",
    "df1.info()"
   ]
  },
  {
   "cell_type": "code",
   "execution_count": 11,
   "id": "31a66465",
   "metadata": {},
   "outputs": [
    {
     "data": {
      "text/plain": [
       "Missed      6\n",
       "7           4\n",
       "Attended    4\n",
       "8           3\n",
       "5           2\n",
       "10          1\n",
       "Name: 3, dtype: int64"
      ]
     },
     "execution_count": 11,
     "metadata": {},
     "output_type": "execute_result"
    }
   ],
   "source": [
    "df1.iloc[2,:][1:].value_counts()"
   ]
  },
  {
   "cell_type": "code",
   "execution_count": 12,
   "id": "9f849b52",
   "metadata": {},
   "outputs": [],
   "source": [
    "df1['Missed']=0\n",
    "df1['Attended']=0"
   ]
  },
  {
   "cell_type": "code",
   "execution_count": 13,
   "id": "4f877616",
   "metadata": {},
   "outputs": [
    {
     "data": {
      "text/html": [
       "<div>\n",
       "<style scoped>\n",
       "    .dataframe tbody tr th:only-of-type {\n",
       "        vertical-align: middle;\n",
       "    }\n",
       "\n",
       "    .dataframe tbody tr th {\n",
       "        vertical-align: top;\n",
       "    }\n",
       "\n",
       "    .dataframe thead th {\n",
       "        text-align: right;\n",
       "    }\n",
       "</style>\n",
       "<table border=\"1\" class=\"dataframe\">\n",
       "  <thead>\n",
       "    <tr style=\"text-align: right;\">\n",
       "      <th></th>\n",
       "      <th>Type</th>\n",
       "      <th>10-01-21</th>\n",
       "      <th>Unnamed: 3</th>\n",
       "      <th>09-01-21</th>\n",
       "      <th>Unnamed: 5</th>\n",
       "      <th>08-01-21</th>\n",
       "      <th>Unnamed: 7</th>\n",
       "      <th>07-01-21</th>\n",
       "      <th>Unnamed: 9</th>\n",
       "      <th>06-01-21</th>\n",
       "      <th>...</th>\n",
       "      <th>04-01-21</th>\n",
       "      <th>Unnamed: 15</th>\n",
       "      <th>03-01-21</th>\n",
       "      <th>Unnamed: 17</th>\n",
       "      <th>02-01-21</th>\n",
       "      <th>Unnamed: 19</th>\n",
       "      <th>01-01-21</th>\n",
       "      <th>Unnamed: 21</th>\n",
       "      <th>Missed</th>\n",
       "      <th>Attended</th>\n",
       "    </tr>\n",
       "    <tr>\n",
       "      <th>Unnamed: 0</th>\n",
       "      <th></th>\n",
       "      <th></th>\n",
       "      <th></th>\n",
       "      <th></th>\n",
       "      <th></th>\n",
       "      <th></th>\n",
       "      <th></th>\n",
       "      <th></th>\n",
       "      <th></th>\n",
       "      <th></th>\n",
       "      <th></th>\n",
       "      <th></th>\n",
       "      <th></th>\n",
       "      <th></th>\n",
       "      <th></th>\n",
       "      <th></th>\n",
       "      <th></th>\n",
       "      <th></th>\n",
       "      <th></th>\n",
       "      <th></th>\n",
       "      <th></th>\n",
       "    </tr>\n",
       "  </thead>\n",
       "  <tbody>\n",
       "    <tr>\n",
       "      <th>1</th>\n",
       "      <td>WORKING</td>\n",
       "      <td>Missed</td>\n",
       "      <td>5</td>\n",
       "      <td>Missed</td>\n",
       "      <td>5</td>\n",
       "      <td>Missed</td>\n",
       "      <td>9</td>\n",
       "      <td>Missed</td>\n",
       "      <td>5</td>\n",
       "      <td>Missed</td>\n",
       "      <td>...</td>\n",
       "      <td>Missed</td>\n",
       "      <td>5</td>\n",
       "      <td>Missed</td>\n",
       "      <td>7</td>\n",
       "      <td>Missed</td>\n",
       "      <td>10</td>\n",
       "      <td>Missed</td>\n",
       "      <td>7</td>\n",
       "      <td>10</td>\n",
       "      <td>0</td>\n",
       "    </tr>\n",
       "    <tr>\n",
       "      <th>2</th>\n",
       "      <td>STUDENT</td>\n",
       "      <td>Missed</td>\n",
       "      <td>10</td>\n",
       "      <td>Missed</td>\n",
       "      <td>5</td>\n",
       "      <td>Missed</td>\n",
       "      <td>6</td>\n",
       "      <td>Attended</td>\n",
       "      <td>9</td>\n",
       "      <td>Missed</td>\n",
       "      <td>...</td>\n",
       "      <td>Attended</td>\n",
       "      <td>6</td>\n",
       "      <td>Missed</td>\n",
       "      <td>5</td>\n",
       "      <td>Attended</td>\n",
       "      <td>6</td>\n",
       "      <td>Missed</td>\n",
       "      <td>9</td>\n",
       "      <td>6</td>\n",
       "      <td>4</td>\n",
       "    </tr>\n",
       "    <tr>\n",
       "      <th>3</th>\n",
       "      <td>STUDENT</td>\n",
       "      <td>Missed</td>\n",
       "      <td>5</td>\n",
       "      <td>Missed</td>\n",
       "      <td>5</td>\n",
       "      <td>Missed</td>\n",
       "      <td>8</td>\n",
       "      <td>Missed</td>\n",
       "      <td>7</td>\n",
       "      <td>Attended</td>\n",
       "      <td>...</td>\n",
       "      <td>Missed</td>\n",
       "      <td>7</td>\n",
       "      <td>Missed</td>\n",
       "      <td>7</td>\n",
       "      <td>Attended</td>\n",
       "      <td>7</td>\n",
       "      <td>Attended</td>\n",
       "      <td>8</td>\n",
       "      <td>6</td>\n",
       "      <td>4</td>\n",
       "    </tr>\n",
       "    <tr>\n",
       "      <th>4</th>\n",
       "      <td>STUDENT</td>\n",
       "      <td>Missed</td>\n",
       "      <td>5</td>\n",
       "      <td>Missed</td>\n",
       "      <td>8</td>\n",
       "      <td>Attended</td>\n",
       "      <td>8</td>\n",
       "      <td>Missed</td>\n",
       "      <td>9</td>\n",
       "      <td>Missed</td>\n",
       "      <td>...</td>\n",
       "      <td>Attended</td>\n",
       "      <td>7</td>\n",
       "      <td>Attended</td>\n",
       "      <td>5</td>\n",
       "      <td>Attended</td>\n",
       "      <td>7</td>\n",
       "      <td>Attended</td>\n",
       "      <td>5</td>\n",
       "      <td>5</td>\n",
       "      <td>5</td>\n",
       "    </tr>\n",
       "    <tr>\n",
       "      <th>5</th>\n",
       "      <td>WORKING</td>\n",
       "      <td>Missed</td>\n",
       "      <td>8</td>\n",
       "      <td>Missed</td>\n",
       "      <td>10</td>\n",
       "      <td>Missed</td>\n",
       "      <td>5</td>\n",
       "      <td>Missed</td>\n",
       "      <td>6</td>\n",
       "      <td>Missed</td>\n",
       "      <td>...</td>\n",
       "      <td>Missed</td>\n",
       "      <td>10</td>\n",
       "      <td>Missed</td>\n",
       "      <td>9</td>\n",
       "      <td>Missed</td>\n",
       "      <td>8</td>\n",
       "      <td>Missed</td>\n",
       "      <td>6</td>\n",
       "      <td>10</td>\n",
       "      <td>0</td>\n",
       "    </tr>\n",
       "  </tbody>\n",
       "</table>\n",
       "<p>5 rows × 23 columns</p>\n",
       "</div>"
      ],
      "text/plain": [
       "               Type 10-01-21  Unnamed: 3 09-01-21  Unnamed: 5  08-01-21  \\\n",
       "Unnamed: 0                                                                \n",
       "1           WORKING   Missed           5   Missed           5    Missed   \n",
       "2           STUDENT   Missed          10   Missed           5    Missed   \n",
       "3           STUDENT   Missed           5   Missed           5    Missed   \n",
       "4           STUDENT   Missed           5   Missed           8  Attended   \n",
       "5           WORKING   Missed           8   Missed          10    Missed   \n",
       "\n",
       "            Unnamed: 7  07-01-21  Unnamed: 9  06-01-21  ...  04-01-21  \\\n",
       "Unnamed: 0                                              ...             \n",
       "1                    9    Missed           5    Missed  ...    Missed   \n",
       "2                    6  Attended           9    Missed  ...  Attended   \n",
       "3                    8    Missed           7  Attended  ...    Missed   \n",
       "4                    8    Missed           9    Missed  ...  Attended   \n",
       "5                    5    Missed           6    Missed  ...    Missed   \n",
       "\n",
       "           Unnamed: 15  03-01-21 Unnamed: 17  02-01-21 Unnamed: 19  01-01-21  \\\n",
       "Unnamed: 0                                                                     \n",
       "1                    5    Missed           7    Missed          10    Missed   \n",
       "2                    6    Missed           5  Attended           6    Missed   \n",
       "3                    7    Missed           7  Attended           7  Attended   \n",
       "4                    7  Attended           5  Attended           7  Attended   \n",
       "5                   10    Missed           9    Missed           8    Missed   \n",
       "\n",
       "           Unnamed: 21  Missed Attended  \n",
       "Unnamed: 0                               \n",
       "1                    7      10        0  \n",
       "2                    9       6        4  \n",
       "3                    8       6        4  \n",
       "4                    5       5        5  \n",
       "5                    6      10        0  \n",
       "\n",
       "[5 rows x 23 columns]"
      ]
     },
     "execution_count": 13,
     "metadata": {},
     "output_type": "execute_result"
    }
   ],
   "source": [
    "for i in df1.index:\n",
    "    temp=df1.loc[i,:][1:].value_counts()\n",
    "    if 'Missed' in temp:\n",
    "        df1.loc[i,'Missed']=temp['Missed']\n",
    "    if 'Attended' in temp:\n",
    "        df1.loc[i,'Attended']=temp['Attended']\n",
    "df1.head()"
   ]
  },
  {
   "cell_type": "code",
   "execution_count": 14,
   "id": "7596d3b7",
   "metadata": {},
   "outputs": [],
   "source": [
    "#define '%missed' column\n",
    "df1['%missed']=(df1['Missed']*100)/(df1['Missed']+df1['Attended'])"
   ]
  },
  {
   "cell_type": "code",
   "execution_count": 15,
   "id": "5fea612a",
   "metadata": {},
   "outputs": [
    {
     "data": {
      "text/plain": [
       "count     56.000000\n",
       "mean      48.750000\n",
       "std       41.387855\n",
       "min        0.000000\n",
       "25%       10.000000\n",
       "50%       45.000000\n",
       "75%      100.000000\n",
       "max      100.000000\n",
       "Name: %missed, dtype: float64"
      ]
     },
     "execution_count": 15,
     "metadata": {},
     "output_type": "execute_result"
    }
   ],
   "source": [
    "df1['%missed'].describe()"
   ]
  },
  {
   "cell_type": "code",
   "execution_count": 16,
   "id": "64d3d9b0",
   "metadata": {},
   "outputs": [],
   "source": [
    "#set the threshold at 25%\n",
    "df1['need_attendance_related_attension']=False\n",
    "for i in df1.index:\n",
    "    if df1.loc[i,'%missed']<25:\n",
    "        df1['need_attendance_related_attension']=True\n"
   ]
  },
  {
   "cell_type": "code",
   "execution_count": 17,
   "id": "d9eea321",
   "metadata": {},
   "outputs": [
    {
     "data": {
      "text/plain": [
       "<AxesSubplot:>"
      ]
     },
     "execution_count": 17,
     "metadata": {},
     "output_type": "execute_result"
    },
    {
     "data": {
      "image/png": "[encoded data removed]",
      "text/plain": [
       "<Figure size 432x288 with 1 Axes>"
      ]
     },
     "metadata": {
      "needs_background": "light"
     },
     "output_type": "display_data"
    }
   ],
   "source": [
    "need_attention_student_list_1=df1[df1['need_attendance_related_attension']==True].index\n",
    "need_attention_student_list_1\n",
    "\n",
    "df1.loc[need_attention_student_list_1,'Type'].value_counts().plot(kind='barh')"
   ]
  },
  {
   "cell_type": "code",
   "execution_count": 18,
   "id": "bffd473f",
   "metadata": {},
   "outputs": [
    {
     "data": {
      "text/plain": [
       "Index(['Unnamed: 3', 'Unnamed: 5', 'Unnamed: 7', 'Unnamed: 9', 'Unnamed: 11',\n",
       "       'Unnamed: 13', 'Unnamed: 15', 'Unnamed: 17', 'Unnamed: 19'],\n",
       "      dtype='object')"
      ]
     },
     "execution_count": 18,
     "metadata": {},
     "output_type": "execute_result"
    }
   ],
   "source": [
    "df1.iloc[1,2::2].index[:-3]"
   ]
  },
  {
   "cell_type": "code",
   "execution_count": 19,
   "id": "723a7393",
   "metadata": {},
   "outputs": [],
   "source": [
    "#rating analysis\n",
    "df1['avg_rating']=0\n",
    "for i in df1.index:\n",
    "    df1.loc[i,'avg_rating']=df1.loc[i,df1.iloc[1,2::2].index[:-3]][:-2].mean()"
   ]
  },
  {
   "cell_type": "code",
   "execution_count": 20,
   "id": "1387a4bc",
   "metadata": {},
   "outputs": [
    {
     "data": {
      "text/plain": [
       "count    56.000000\n",
       "mean      7.533163\n",
       "std       0.706446\n",
       "min       5.714286\n",
       "25%       7.142857\n",
       "50%       7.571429\n",
       "75%       8.000000\n",
       "max       8.857143\n",
       "Name: avg_rating, dtype: float64"
      ]
     },
     "execution_count": 20,
     "metadata": {},
     "output_type": "execute_result"
    }
   ],
   "source": [
    "df1['avg_rating'].describe()"
   ]
  },
  {
   "cell_type": "code",
   "execution_count": 21,
   "id": "fb367210",
   "metadata": {},
   "outputs": [],
   "source": [
    "#above 7 average rating shows satisfaction\n",
    "df1['satisfied']=(df1['avg_rating']>=7)"
   ]
  },
  {
   "cell_type": "code",
   "execution_count": 22,
   "id": "252b5582",
   "metadata": {},
   "outputs": [
    {
     "name": "stdout",
     "output_type": "stream",
     "text": [
      "no of satisfied students = 44\n",
      "no of unsatisfied students = 12\n"
     ]
    }
   ],
   "source": [
    "student_satisfied_1=df1[df1['satisfied']==True].index\n",
    "student_unsatisfied_1=df1[df1['satisfied']==False].index\n",
    "print('no of satisfied students = {}'.format(len(student_satisfied_1)))\n",
    "print('no of unsatisfied students = {}'.format(len(student_unsatisfied_1)))"
   ]
  },
  {
   "cell_type": "code",
   "execution_count": 23,
   "id": "56176a33",
   "metadata": {},
   "outputs": [
    {
     "data": {
      "text/plain": [
       "<AxesSubplot:>"
      ]
     },
     "execution_count": 23,
     "metadata": {},
     "output_type": "execute_result"
    },
    {
     "data": {
      "image/png": "[encoded data removed]",
      "text/plain": [
       "<Figure size 432x288 with 1 Axes>"
      ]
     },
     "metadata": {
      "needs_background": "light"
     },
     "output_type": "display_data"
    }
   ],
   "source": [
    "df1.loc[student_satisfied_1,'Type'].value_counts().plot(kind='barh')"
   ]
  },
  {
   "cell_type": "code",
   "execution_count": 24,
   "id": "e81a28d1",
   "metadata": {},
   "outputs": [
    {
     "data": {
      "text/plain": [
       "<AxesSubplot:>"
      ]
     },
     "execution_count": 24,
     "metadata": {},
     "output_type": "execute_result"
    },
    {
     "data": {
      "image/png": "[encoded data removed]",
      "text/plain": [
       "<Figure size 432x288 with 1 Axes>"
      ]
     },
     "metadata": {
      "needs_background": "light"
     },
     "output_type": "display_data"
    }
   ],
   "source": [
    "df1.loc[student_unsatisfied_1,'Type'].value_counts().plot(kind='barh')"
   ]
  },
  {
   "cell_type": "markdown",
   "id": "cdc6f996",
   "metadata": {},
   "source": [
    "Class 2"
   ]
  },
  {
   "cell_type": "code",
   "execution_count": 25,
   "id": "71ad494a",
   "metadata": {},
   "outputs": [
    {
     "name": "stdout",
     "output_type": "stream",
     "text": [
      "<class 'pandas.core.frame.DataFrame'>\n",
      "Int64Index: 70 entries, 1 to 70\n",
      "Data columns (total 17 columns):\n",
      " #   Column       Non-Null Count  Dtype \n",
      "---  ------       --------------  ----- \n",
      " 0   Type         70 non-null     object\n",
      " 1   10-01-21     70 non-null     object\n",
      " 2   Unnamed: 3   70 non-null     int64 \n",
      " 3   09-01-21     70 non-null     object\n",
      " 4   Unnamed: 5   70 non-null     int64 \n",
      " 5   08-01-21     70 non-null     object\n",
      " 6   Unnamed: 7   70 non-null     int64 \n",
      " 7   07-01-21     69 non-null     object\n",
      " 8   Unnamed: 9   70 non-null     int64 \n",
      " 9   06-01-21     69 non-null     object\n",
      " 10  Unnamed: 11  70 non-null     int64 \n",
      " 11  05-01-21     69 non-null     object\n",
      " 12  Unnamed: 13  70 non-null     int64 \n",
      " 13  04-01-21     69 non-null     object\n",
      " 14  Unnamed: 15  70 non-null     int64 \n",
      " 15  03-01-21     67 non-null     object\n",
      " 16  Unnamed: 17  70 non-null     int64 \n",
      "dtypes: int64(8), object(9)\n",
      "memory usage: 9.8+ KB\n"
     ]
    }
   ],
   "source": [
    "df2=df2.iloc[:,:-2]\n",
    "df2.info()"
   ]
  },
  {
   "cell_type": "code",
   "execution_count": 26,
   "id": "232121bf",
   "metadata": {},
   "outputs": [
    {
     "name": "stdout",
     "output_type": "stream",
     "text": [
      "<class 'pandas.core.frame.DataFrame'>\n",
      "Int64Index: 67 entries, 1 to 70\n",
      "Data columns (total 17 columns):\n",
      " #   Column       Non-Null Count  Dtype \n",
      "---  ------       --------------  ----- \n",
      " 0   Type         67 non-null     object\n",
      " 1   10-01-21     67 non-null     object\n",
      " 2   Unnamed: 3   67 non-null     int64 \n",
      " 3   09-01-21     67 non-null     object\n",
      " 4   Unnamed: 5   67 non-null     int64 \n",
      " 5   08-01-21     67 non-null     object\n",
      " 6   Unnamed: 7   67 non-null     int64 \n",
      " 7   07-01-21     67 non-null     object\n",
      " 8   Unnamed: 9   67 non-null     int64 \n",
      " 9   06-01-21     67 non-null     object\n",
      " 10  Unnamed: 11  67 non-null     int64 \n",
      " 11  05-01-21     67 non-null     object\n",
      " 12  Unnamed: 13  67 non-null     int64 \n",
      " 13  04-01-21     67 non-null     object\n",
      " 14  Unnamed: 15  67 non-null     int64 \n",
      " 15  03-01-21     67 non-null     object\n",
      " 16  Unnamed: 17  67 non-null     int64 \n",
      "dtypes: int64(8), object(9)\n",
      "memory usage: 9.4+ KB\n"
     ]
    }
   ],
   "source": [
    "df2.dropna(inplace=True)\n",
    "df2.info()"
   ]
  },
  {
   "cell_type": "code",
   "execution_count": 27,
   "id": "803cc436",
   "metadata": {},
   "outputs": [],
   "source": [
    "df2['Missed']=0\n",
    "df2['Attended']=0"
   ]
  },
  {
   "cell_type": "code",
   "execution_count": 28,
   "id": "629166e0",
   "metadata": {},
   "outputs": [
    {
     "data": {
      "text/html": [
       "<div>\n",
       "<style scoped>\n",
       "    .dataframe tbody tr th:only-of-type {\n",
       "        vertical-align: middle;\n",
       "    }\n",
       "\n",
       "    .dataframe tbody tr th {\n",
       "        vertical-align: top;\n",
       "    }\n",
       "\n",
       "    .dataframe thead th {\n",
       "        text-align: right;\n",
       "    }\n",
       "</style>\n",
       "<table border=\"1\" class=\"dataframe\">\n",
       "  <thead>\n",
       "    <tr style=\"text-align: right;\">\n",
       "      <th></th>\n",
       "      <th>Type</th>\n",
       "      <th>10-01-21</th>\n",
       "      <th>Unnamed: 3</th>\n",
       "      <th>09-01-21</th>\n",
       "      <th>Unnamed: 5</th>\n",
       "      <th>08-01-21</th>\n",
       "      <th>Unnamed: 7</th>\n",
       "      <th>07-01-21</th>\n",
       "      <th>Unnamed: 9</th>\n",
       "      <th>06-01-21</th>\n",
       "      <th>Unnamed: 11</th>\n",
       "      <th>05-01-21</th>\n",
       "      <th>Unnamed: 13</th>\n",
       "      <th>04-01-21</th>\n",
       "      <th>Unnamed: 15</th>\n",
       "      <th>03-01-21</th>\n",
       "      <th>Unnamed: 17</th>\n",
       "      <th>Missed</th>\n",
       "      <th>Attended</th>\n",
       "    </tr>\n",
       "    <tr>\n",
       "      <th>Unnamed: 0</th>\n",
       "      <th></th>\n",
       "      <th></th>\n",
       "      <th></th>\n",
       "      <th></th>\n",
       "      <th></th>\n",
       "      <th></th>\n",
       "      <th></th>\n",
       "      <th></th>\n",
       "      <th></th>\n",
       "      <th></th>\n",
       "      <th></th>\n",
       "      <th></th>\n",
       "      <th></th>\n",
       "      <th></th>\n",
       "      <th></th>\n",
       "      <th></th>\n",
       "      <th></th>\n",
       "      <th></th>\n",
       "      <th></th>\n",
       "    </tr>\n",
       "  </thead>\n",
       "  <tbody>\n",
       "    <tr>\n",
       "      <th>1</th>\n",
       "      <td>STUDENT</td>\n",
       "      <td>Attended</td>\n",
       "      <td>6</td>\n",
       "      <td>Attended</td>\n",
       "      <td>8</td>\n",
       "      <td>Attended</td>\n",
       "      <td>6</td>\n",
       "      <td>Attended</td>\n",
       "      <td>5</td>\n",
       "      <td>Attended</td>\n",
       "      <td>7</td>\n",
       "      <td>Attended</td>\n",
       "      <td>10</td>\n",
       "      <td>Attended</td>\n",
       "      <td>5</td>\n",
       "      <td>Missed</td>\n",
       "      <td>7</td>\n",
       "      <td>1</td>\n",
       "      <td>7</td>\n",
       "    </tr>\n",
       "    <tr>\n",
       "      <th>2</th>\n",
       "      <td>STUDENT</td>\n",
       "      <td>Attended</td>\n",
       "      <td>7</td>\n",
       "      <td>Attended</td>\n",
       "      <td>9</td>\n",
       "      <td>Attended</td>\n",
       "      <td>5</td>\n",
       "      <td>Attended</td>\n",
       "      <td>6</td>\n",
       "      <td>Attended</td>\n",
       "      <td>10</td>\n",
       "      <td>Attended</td>\n",
       "      <td>6</td>\n",
       "      <td>Attended</td>\n",
       "      <td>9</td>\n",
       "      <td>Attended</td>\n",
       "      <td>8</td>\n",
       "      <td>0</td>\n",
       "      <td>8</td>\n",
       "    </tr>\n",
       "    <tr>\n",
       "      <th>3</th>\n",
       "      <td>STUDENT</td>\n",
       "      <td>Missed</td>\n",
       "      <td>9</td>\n",
       "      <td>Missed</td>\n",
       "      <td>5</td>\n",
       "      <td>Missed</td>\n",
       "      <td>10</td>\n",
       "      <td>Missed</td>\n",
       "      <td>5</td>\n",
       "      <td>Missed</td>\n",
       "      <td>10</td>\n",
       "      <td>Missed</td>\n",
       "      <td>5</td>\n",
       "      <td>Missed</td>\n",
       "      <td>7</td>\n",
       "      <td>Missed</td>\n",
       "      <td>8</td>\n",
       "      <td>8</td>\n",
       "      <td>0</td>\n",
       "    </tr>\n",
       "    <tr>\n",
       "      <th>4</th>\n",
       "      <td>STUDENT</td>\n",
       "      <td>Attended</td>\n",
       "      <td>9</td>\n",
       "      <td>Attended</td>\n",
       "      <td>10</td>\n",
       "      <td>Attended</td>\n",
       "      <td>5</td>\n",
       "      <td>Attended</td>\n",
       "      <td>6</td>\n",
       "      <td>Missed</td>\n",
       "      <td>6</td>\n",
       "      <td>Missed</td>\n",
       "      <td>7</td>\n",
       "      <td>Attended</td>\n",
       "      <td>7</td>\n",
       "      <td>Attended</td>\n",
       "      <td>7</td>\n",
       "      <td>2</td>\n",
       "      <td>6</td>\n",
       "    </tr>\n",
       "    <tr>\n",
       "      <th>5</th>\n",
       "      <td>WORKING</td>\n",
       "      <td>Attended</td>\n",
       "      <td>7</td>\n",
       "      <td>Attended</td>\n",
       "      <td>8</td>\n",
       "      <td>Attended</td>\n",
       "      <td>8</td>\n",
       "      <td>Missed</td>\n",
       "      <td>6</td>\n",
       "      <td>Missed</td>\n",
       "      <td>8</td>\n",
       "      <td>Missed</td>\n",
       "      <td>5</td>\n",
       "      <td>Missed</td>\n",
       "      <td>5</td>\n",
       "      <td>Missed</td>\n",
       "      <td>5</td>\n",
       "      <td>5</td>\n",
       "      <td>3</td>\n",
       "    </tr>\n",
       "  </tbody>\n",
       "</table>\n",
       "</div>"
      ],
      "text/plain": [
       "               Type  10-01-21  Unnamed: 3  09-01-21  Unnamed: 5  08-01-21  \\\n",
       "Unnamed: 0                                                                  \n",
       "1           STUDENT  Attended           6  Attended           8  Attended   \n",
       "2           STUDENT  Attended           7  Attended           9  Attended   \n",
       "3           STUDENT    Missed           9    Missed           5    Missed   \n",
       "4           STUDENT  Attended           9  Attended          10  Attended   \n",
       "5           WORKING  Attended           7  Attended           8  Attended   \n",
       "\n",
       "            Unnamed: 7  07-01-21  Unnamed: 9  06-01-21  Unnamed: 11  05-01-21  \\\n",
       "Unnamed: 0                                                                      \n",
       "1                    6  Attended           5  Attended            7  Attended   \n",
       "2                    5  Attended           6  Attended           10  Attended   \n",
       "3                   10    Missed           5    Missed           10    Missed   \n",
       "4                    5  Attended           6    Missed            6    Missed   \n",
       "5                    8    Missed           6    Missed            8    Missed   \n",
       "\n",
       "            Unnamed: 13  04-01-21  Unnamed: 15  03-01-21  Unnamed: 17  Missed  \\\n",
       "Unnamed: 0                                                                      \n",
       "1                    10  Attended            5    Missed            7       1   \n",
       "2                     6  Attended            9  Attended            8       0   \n",
       "3                     5    Missed            7    Missed            8       8   \n",
       "4                     7  Attended            7  Attended            7       2   \n",
       "5                     5    Missed            5    Missed            5       5   \n",
       "\n",
       "            Attended  \n",
       "Unnamed: 0            \n",
       "1                  7  \n",
       "2                  8  \n",
       "3                  0  \n",
       "4                  6  \n",
       "5                  3  "
      ]
     },
     "execution_count": 28,
     "metadata": {},
     "output_type": "execute_result"
    }
   ],
   "source": [
    "for i in df2.index:\n",
    "    temp=df2.loc[i,:][1:].value_counts()\n",
    "    if 'Missed' in temp:\n",
    "        df2.loc[i,'Missed']=temp['Missed']\n",
    "    if 'Attended' in temp:\n",
    "        df2.loc[i,'Attended']=temp['Attended']\n",
    "df2.head()"
   ]
  },
  {
   "cell_type": "code",
   "execution_count": 29,
   "id": "cc874a59",
   "metadata": {},
   "outputs": [
    {
     "data": {
      "text/plain": [
       "count     67.000000\n",
       "mean      41.231343\n",
       "std       41.743202\n",
       "min        0.000000\n",
       "25%        0.000000\n",
       "50%       25.000000\n",
       "75%      100.000000\n",
       "max      100.000000\n",
       "Name: %missed, dtype: float64"
      ]
     },
     "execution_count": 29,
     "metadata": {},
     "output_type": "execute_result"
    }
   ],
   "source": [
    "#define '%missed' column\n",
    "df2['%missed']=(df2['Missed']*100)/(df2['Missed']+df2['Attended'])\n",
    "df2['%missed'].describe()"
   ]
  },
  {
   "cell_type": "code",
   "execution_count": 30,
   "id": "5fec1a30",
   "metadata": {},
   "outputs": [],
   "source": [
    "#set the threshold at 25%\n",
    "df2['need_attendance_related_attension']=False\n",
    "for i in df2.index:\n",
    "    if df2.loc[i,'%missed']<25:\n",
    "        df2['need_attendance_related_attension']=True\n"
   ]
  },
  {
   "cell_type": "code",
   "execution_count": 31,
   "id": "0aafd13f",
   "metadata": {},
   "outputs": [
    {
     "data": {
      "text/plain": [
       "<AxesSubplot:>"
      ]
     },
     "execution_count": 31,
     "metadata": {},
     "output_type": "execute_result"
    },
    {
     "data": {
      "image/png": "[encoded data removed]",
      "text/plain": [
       "<Figure size 432x288 with 1 Axes>"
      ]
     },
     "metadata": {
      "needs_background": "light"
     },
     "output_type": "display_data"
    }
   ],
   "source": [
    "need_attention_student_list=df2[df2['need_attendance_related_attension']==True].index\n",
    "need_attention_student_list\n",
    "df2.loc[need_attention_student_list,'Type'].value_counts().plot(kind='barh')"
   ]
  },
  {
   "cell_type": "code",
   "execution_count": 32,
   "id": "acceb114",
   "metadata": {},
   "outputs": [],
   "source": [
    "df2['avg_rating']=0\n",
    "for i in df2.index:\n",
    "    df2.loc[i,'avg_rating']=df2.loc[i,df2.iloc[1,2::2].index[:-3]][:-2].mean()\n"
   ]
  },
  {
   "cell_type": "code",
   "execution_count": 33,
   "id": "be13dd86",
   "metadata": {},
   "outputs": [
    {
     "data": {
      "text/plain": [
       "count    67.000000\n",
       "mean      7.337313\n",
       "std       0.644049\n",
       "min       6.000000\n",
       "25%       6.900000\n",
       "50%       7.400000\n",
       "75%       7.800000\n",
       "max       8.600000\n",
       "Name: avg_rating, dtype: float64"
      ]
     },
     "execution_count": 33,
     "metadata": {},
     "output_type": "execute_result"
    }
   ],
   "source": [
    "df2['avg_rating'].describe()"
   ]
  },
  {
   "cell_type": "markdown",
   "id": "cfab1dd2",
   "metadata": {},
   "source": [
    "above 7 average rating shows satisfaction"
   ]
  },
  {
   "cell_type": "code",
   "execution_count": 34,
   "id": "c12d51ea",
   "metadata": {},
   "outputs": [],
   "source": [
    "#above 7 average rating shows satisfaction\n",
    "\n",
    "df2['satisfied']=(df2['avg_rating']>=7)"
   ]
  },
  {
   "cell_type": "code",
   "execution_count": 35,
   "id": "b060290c",
   "metadata": {},
   "outputs": [
    {
     "name": "stdout",
     "output_type": "stream",
     "text": [
      " \n",
      "Below we will get to know how many students are satisfied and how many students are unsatisfied\n",
      "Number of satisfied students= 50\n",
      "Number of unsatisfied students= 17\n"
     ]
    }
   ],
   "source": [
    "student_satisfied_2=df2[df2['satisfied']==True].index\n",
    "student_unsatisfied_2=df2[df2['satisfied']==False].index\n",
    "print(\" \")\n",
    "print(\"Below we will get to know how many students are satisfied and how many students are unsatisfied\")\n",
    "print('Number of satisfied students= {}'.format(len(student_satisfied_2)))\n",
    "print('Number of unsatisfied students= {}'.format(len(student_unsatisfied_2)))"
   ]
  },
  {
   "cell_type": "code",
   "execution_count": 36,
   "id": "de8f0564",
   "metadata": {},
   "outputs": [
    {
     "data": {
      "text/plain": [
       "<AxesSubplot:>"
      ]
     },
     "execution_count": 36,
     "metadata": {},
     "output_type": "execute_result"
    },
    {
     "data": {
      "image/png": "[encoded data removed]",
      "text/plain": [
       "<Figure size 432x288 with 1 Axes>"
      ]
     },
     "metadata": {
      "needs_background": "light"
     },
     "output_type": "display_data"
    }
   ],
   "source": [
    "df2.loc[student_satisfied_2,'Type'].value_counts().plot(kind='barh')"
   ]
  },
  {
   "cell_type": "code",
   "execution_count": 37,
   "id": "4e558099",
   "metadata": {},
   "outputs": [
    {
     "data": {
      "text/plain": [
       "<AxesSubplot:>"
      ]
     },
     "execution_count": 37,
     "metadata": {},
     "output_type": "execute_result"
    },
    {
     "data": {
      "image/png": "[encoded data removed]",
      "text/plain": [
       "<Figure size 432x288 with 1 Axes>"
      ]
     },
     "metadata": {
      "needs_background": "light"
     },
     "output_type": "display_data"
    }
   ],
   "source": [
    "df2.loc[student_unsatisfied_2,'Type'].value_counts().plot(kind='barh')"
   ]
  },
  {
   "cell_type": "code",
   "execution_count": null,
   "id": "756b41c7",
   "metadata": {},
   "outputs": [],
   "source": []
  }
 ],
 "metadata": {
  "kernelspec": {
   "display_name": "Python 3 (ipykernel)",
   "language": "python",
   "name": "python3"
  },
  "language_info": {
   "codemirror_mode": {
    "name": "ipython",
    "version": 3
   },
   "file_extension": ".py",
   "mimetype": "text/x-python",
   "name": "python",
   "nbconvert_exporter": "python",
   "pygments_lexer": "ipython3",
   "version": "3.9.12"
  }
 },
 "nbformat": 4,
 "nbformat_minor": 5
}
